{
  "nbformat": 4,
  "nbformat_minor": 0,
  "metadata": {
    "colab": {
      "provenance": [],
      "toc_visible": true,
      "authorship_tag": "ABX9TyOheqY2lZlXnhIT9B+FIAnb",
      "include_colab_link": true
    },
    "kernelspec": {
      "name": "python3",
      "display_name": "Python 3"
    },
    "language_info": {
      "name": "python"
    }
  },
  "cells": [
    {
      "cell_type": "markdown",
      "metadata": {
        "id": "view-in-github",
        "colab_type": "text"
      },
      "source": [
        "<a href=\"https://colab.research.google.com/github/GuidoGuarda/machinelearning/blob/main/ml_pln.ipynb\" target=\"_parent\"><img src=\"https://colab.research.google.com/assets/colab-badge.svg\" alt=\"Open In Colab\"/></a>"
      ]
    },
    {
      "cell_type": "markdown",
      "source": [
        "## Álgebra Linear - Revisão 1\n",
        "\n",
        "1.   A equação linear tem x ¹\n",
        "2.   \n",
        "\n"
      ],
      "metadata": {
        "id": "y5rdZuRAqJoA"
      }
    },
    {
      "cell_type": "code",
      "source": [
        "def verifica_equacao(base,expoente):\n",
        "  msg = \"\"\n",
        "  if expoente == 1:\n",
        "    msg = \" equação linear\"\n",
        "  else:\n",
        "    msg = \"equação não linear\"\n",
        "\n",
        "  return f\" res-potencia:{pow(base,expoente)}- {msg}\"\n"
      ],
      "metadata": {
        "id": "a1Pyjqu9qpbo"
      },
      "execution_count": 50,
      "outputs": []
    },
    {
      "cell_type": "code",
      "source": [
        "# chamar a função\n",
        "# overflow - estouro de pilha da memória\n",
        "verifica_equacao(5,1)\n"
      ],
      "metadata": {
        "colab": {
          "base_uri": "https://localhost:8080/",
          "height": 35
        },
        "id": "N3MIj2azvTBP",
        "outputId": "e7ae47d1-45e8-4d7d-89d8-bbb06f93b184"
      },
      "execution_count": 51,
      "outputs": [
        {
          "output_type": "execute_result",
          "data": {
            "text/plain": [
              "' res-potencia:5-  equação linear'"
            ],
            "application/vnd.google.colaboratory.intrinsic+json": {
              "type": "string"
            }
          },
          "metadata": {},
          "execution_count": 51
        }
      ]
    },
    {
      "cell_type": "code",
      "source": [
        "## 3x = 5\n",
        "# 3 é coficiente da variável x\n",
        "# 5 (sem letra e variável) é o termo independente\n",
        "# Se o termo independente for igual a 0 = Equação Linear Homogênea\n",
        "# Quando a variável não tem coeficiente é igual a 1 (equação linear)\n",
        "\n"
      ],
      "metadata": {
        "id": "EYDDifD0t0IG"
      },
      "execution_count": 52,
      "outputs": []
    },
    {
      "cell_type": "markdown",
      "source": [
        "# POO - Paradigma Orientado a Objetos\n",
        "\n",
        "- 1 - Classe\n",
        "- 2 - Objeto\n",
        "- 3 - Método\n",
        "- 4 - Construtor\n",
        "\n",
        "** Biblioteca ABC ** Abstract Base Class\n",
        "\n",
        "- 5 - Classes Abstratas\n",
        "- Métodos Abstratos\n",
        "- Polimorfismo\n",
        "\n",
        "\n"
      ],
      "metadata": {
        "id": "Qyh22kMjwva-"
      }
    },
    {
      "source": [
        "# 1 Classes\n",
        "class EquacaoLinear:\n",
        "    # Atributos do objeto (base e expoente)\n",
        "  def __init__(self,base,expoente):# Construtores\n",
        "    self.base = base\n",
        "    self.expoente = expoente\n",
        "  def verifica_equacao(self):\n",
        "    msg = \"\" # Variável\n",
        "    if self. expoente == 1: #add indentation\n",
        "      msg = \" equação linear\"\n",
        "    else:\n",
        "      msg = \"equação não linear\" #add indentation\n",
        "\n",
        "    return f\" res-potencia:{pow(self.base,self.expoente)} - {msg}\""
      ],
      "cell_type": "code",
      "metadata": {
        "id": "nGfwWY7R0x8u"
      },
      "execution_count": 53,
      "outputs": []
    },
    {
      "cell_type": "code",
      "source": [
        "a = EquacaoLinear(5,1)\n",
        "a.verifica_equacao()"
      ],
      "metadata": {
        "colab": {
          "base_uri": "https://localhost:8080/",
          "height": 35
        },
        "id": "NQ6wqeUn0Q12",
        "outputId": "58b9ea1f-8a65-4b77-faa3-c078709ed40b"
      },
      "execution_count": 54,
      "outputs": [
        {
          "output_type": "execute_result",
          "data": {
            "text/plain": [
              "' res-potencia:5 -  equação linear'"
            ],
            "application/vnd.google.colaboratory.intrinsic+json": {
              "type": "string"
            }
          },
          "metadata": {},
          "execution_count": 54
        }
      ]
    },
    {
      "cell_type": "markdown",
      "source": [
        "## Lambda"
      ],
      "metadata": {
        "id": "5Hs91Ipa_D5g"
      }
    },
    {
      "cell_type": "code",
      "source": [
        "verifica_equacao_1 = lambda x : pow(x,1)\n",
        "verifica_equacao_1(5)"
      ],
      "metadata": {
        "colab": {
          "base_uri": "https://localhost:8080/"
        },
        "id": "6WyOOpQKAbGx",
        "outputId": "5b3ecbe2-a580-490e-9225-3fd658fe6bf3"
      },
      "execution_count": 55,
      "outputs": [
        {
          "output_type": "execute_result",
          "data": {
            "text/plain": [
              "5"
            ]
          },
          "metadata": {},
          "execution_count": 55
        }
      ]
    },
    {
      "cell_type": "markdown",
      "source": [
        "## Lambda com if"
      ],
      "metadata": {
        "id": "4rjMU6pkB6LX"
      }
    },
    {
      "cell_type": "code",
      "source": [
        "# prompt: para a função que irei mostrar agora, crie uma versão lambda: # 1 Classes\n",
        "# class EquacaoLinear:\n",
        "#     # Atributos do objeto (base e expoente)\n",
        "#   def __init__(self,base,expoente):# Construtores\n",
        "#     self.base = base\n",
        "#     self.expoente = expoente\n",
        "#   def verifica_equacao(self):\n",
        "#     msg = \"\" # Variável\n",
        "#     if self. expoente == 1: #add indentation\n",
        "#       msg = \" equação linear\"\n",
        "#     else:\n",
        "#       msg = \"equação\n",
        "\n",
        "verifica_equacao_lambda = lambda base, expoente: \" equação linear\" if expoente == 1 else \"equação não linear\"\n"
      ],
      "metadata": {
        "id": "Y44dv0DrA4S4"
      },
      "execution_count": 56,
      "outputs": []
    },
    {
      "cell_type": "code",
      "source": [
        "verifica_equacao_lambda(2,2)"
      ],
      "metadata": {
        "colab": {
          "base_uri": "https://localhost:8080/",
          "height": 35
        },
        "id": "nt8dTGllBnzf",
        "outputId": "64f81cdc-4289-4fbd-c187-0f11e9a197b0"
      },
      "execution_count": 57,
      "outputs": [
        {
          "output_type": "execute_result",
          "data": {
            "text/plain": [
              "'equação não linear'"
            ],
            "application/vnd.google.colaboratory.intrinsic+json": {
              "type": "string"
            }
          },
          "metadata": {},
          "execution_count": 57
        }
      ]
    },
    {
      "cell_type": "code",
      "source": [
        "verifica_equacao_lambda = lambda base, expoente: f'res-potencia: {pow(base, expoente)} - {\"equação linear\" if expoente == 1 else \"equação não linear\"}'"
      ],
      "metadata": {
        "id": "r0IKuJiCDtN5"
      },
      "execution_count": 58,
      "outputs": []
    },
    {
      "cell_type": "code",
      "source": [
        "verifica_equacao_lambda(2,2)"
      ],
      "metadata": {
        "colab": {
          "base_uri": "https://localhost:8080/",
          "height": 35
        },
        "id": "XwNWWioqD8We",
        "outputId": "19945813-0084-4079-bb93-fb04c3925934"
      },
      "execution_count": 59,
      "outputs": [
        {
          "output_type": "execute_result",
          "data": {
            "text/plain": [
              "'res-potencia: 4 - equação não linear'"
            ],
            "application/vnd.google.colaboratory.intrinsic+json": {
              "type": "string"
            }
          },
          "metadata": {},
          "execution_count": 59
        }
      ]
    },
    {
      "cell_type": "code",
      "source": [
        "# prompt: gere uma função que calcule a raiz quadrada de x\n",
        "\n",
        "import math\n",
        "\n",
        "def raiz_quadrada(x):\n",
        "  \"\"\"Calcula a raiz quadrada de x.\n",
        "\n",
        "  Args:\n",
        "    x: O número para calcular a raiz quadrada.\n",
        "\n",
        "  Returns:\n",
        "    A raiz quadrada de x.\n",
        "  \"\"\"\n",
        "  if x < 0:\n",
        "    return \"Não é possível calcular a raiz quadrada de um número negativo.\"\n",
        "  else:\n",
        "    return math.sqrt(x)\n",
        "\n",
        "# Exemplo de uso:\n",
        "numero = 9\n",
        "resultado = raiz_quadrada(numero)\n",
        "print(f\"A raiz quadrada de {numero} é {resultado}\")\n"
      ],
      "metadata": {
        "colab": {
          "base_uri": "https://localhost:8080/"
        },
        "id": "JlXnf1TxFozz",
        "outputId": "aec6b2f4-4c14-4256-890b-5cbc97ad01a3"
      },
      "execution_count": 60,
      "outputs": [
        {
          "output_type": "stream",
          "name": "stdout",
          "text": [
            "A raiz quadrada de 9 é 3.0\n"
          ]
        }
      ]
    },
    {
      "cell_type": "code",
      "source": [
        "# prompt: gere uma função que calcule a raiz quadrada de x usando lambda\n",
        "\n",
        "raiz_quadrada_lambda = lambda x: math.sqrt(x) if x >= 0 else \"Não é possível calcular a raiz quadrada de um número negativo.\"\n",
        "raiz_quadrada_lambda(9)"
      ],
      "metadata": {
        "colab": {
          "base_uri": "https://localhost:8080/"
        },
        "id": "CQzapi53GlOI",
        "outputId": "0ef56a38-b25c-4e88-f67c-1496b6949d47"
      },
      "execution_count": 61,
      "outputs": [
        {
          "output_type": "execute_result",
          "data": {
            "text/plain": [
              "3.0"
            ]
          },
          "metadata": {},
          "execution_count": 61
        }
      ]
    },
    {
      "cell_type": "code",
      "source": [
        "# prompt: gere uma função que calcule a raiz quadrada de x usando orientação a objetos em uma classe chamada matemática\n",
        "\n",
        "import math # Biblioteca matemática\n",
        "\n",
        "class Matematica:\n",
        "  def __init__(self):\n",
        "    pass\n",
        "\n",
        "  def raiz_quadrada(self, x):\n",
        "    \"\"\"Calcula a raiz quadrada de x.\n",
        "\n",
        "    Args:\n",
        "      x: O número para calcular a raiz quadrada.\n",
        "\n",
        "    Returns:\n",
        "      A raiz quadrada de x.\n",
        "    \"\"\"\n",
        "    if x < 0:\n",
        "      return \"Não é possível calcular a raiz quadrada de um número negativo.\"\n",
        "    else:\n",
        "      return math.sqrt(x) # função raiz quadrada\n"
      ],
      "metadata": {
        "id": "1DExzV_yHTU8"
      },
      "execution_count": 62,
      "outputs": []
    },
    {
      "cell_type": "code",
      "source": [
        "Matematica().raiz_quadrada(9)"
      ],
      "metadata": {
        "colab": {
          "base_uri": "https://localhost:8080/"
        },
        "id": "0_x8xTqBHlEp",
        "outputId": "87457604-dd12-4deb-e87a-c21ba5d104a7"
      },
      "execution_count": 63,
      "outputs": [
        {
          "output_type": "execute_result",
          "data": {
            "text/plain": [
              "3.0"
            ]
          },
          "metadata": {},
          "execution_count": 63
        }
      ]
    },
    {
      "cell_type": "code",
      "source": [],
      "metadata": {
        "id": "sFOKeS9NH92C"
      },
      "execution_count": 63,
      "outputs": []
    }
  ]
}